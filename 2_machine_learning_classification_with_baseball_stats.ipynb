{
 "cells": [
  {
   "cell_type": "markdown",
   "metadata": {},
   "source": [
    "# MLB Baseball Analytics\n",
    "\n",
    "In the second part of this project, we are going to use machine learning models to predict whether a player is going to be voted into the Hall of Fame, based on the player's career statistics and awards using classification methods.\n",
    "\n",
    "Question we seek to answer: can you build a machine learning model that can accurately predict if an MLB baseball player will be voted into the Hall of Fame?"
   ]
  },
  {
   "cell_type": "markdown",
   "metadata": {},
   "source": [
    "### Hall of Fame Requirements\n",
    "\n",
    "A baseball player can be elected to the Hall of Fame if they meet the following criteria:\n",
    "\n",
    "    - The player must have competed in at least ten seasons;\n",
    "    - The player has been retired for at least five seasons;\n",
    "    - A screening committee must approve the player’s worthiness to be included on the ballot and most players who played regularly for ten or more years are deemed worthy;\n",
    "    - The player must not be on the ineligible list (that means that the player should not be banned from baseball);\n",
    "    - A player is considered elected if he receives at least 75% of the vote in the election; and\n",
    "    - A player stays on the ballot the following year if they receive at least 5% of the vote and can appear on ballots for a maximum of 10 years.\n",
    "    \n",
    "A player who does not get elected to the Hall of Fame can be added by the Veterans Committee or Special Committee appointed by the Commissioner of the MLB."
   ]
  },
  {
   "cell_type": "markdown",
   "metadata": {},
   "source": [
    "### Importing Data\n",
    "\n",
    "The data for player's career statistics was compiled by Sean Lahman and it could be found [here.](http://www.seanlahman.com/baseball-archive/statistics/)\n",
    "\n",
    "These all come in CSV files. \n",
    "\n",
    "    - The Master.csv will tell you more about the player names, Date Of Birth (DOB), and biographical info\n",
    "    - The Fielding.csv contains the fielding statistics\n",
    "    - The Batting.csv contains the Batting statistics\n",
    "    - The AwardsPlayers.csv has data on the awards won by baseball players\n",
    "    - The AllstarFull.csv file wil give you all the All-Star appearances\n",
    "    - You’ll also need the Hall of Fame voting data, which you can find in HallOfFame.csv\n",
    "    - Appearances.csv, which contains details on the positions at which a player appeared"
   ]
  },
  {
   "cell_type": "code",
   "execution_count": 1,
   "metadata": {
    "collapsed": true
   },
   "outputs": [],
   "source": [
    "import numpy as np\n",
    "import pandas as pd\n",
    "\n",
    "import seaborn as sns\n",
    "import matplotlib.pyplot as plt\n",
    "%matplotlib inline"
   ]
  },
  {
   "cell_type": "code",
   "execution_count": 2,
   "metadata": {
    "collapsed": true
   },
   "outputs": [],
   "source": [
    "# Read in the CSV files\n",
    "master_df = pd.read_csv('baseballdatabank/Master.csv',usecols=['playerID','nameFirst','nameLast','bats','throws','debut','finalGame'])\n",
    "fielding_df = pd.read_csv('baseballdatabank/Fielding.csv',usecols=['playerID','yearID','stint','teamID','lgID','POS','G','GS','InnOuts','PO','A','E','DP'])\n",
    "batting_df = pd.read_csv('baseballdatabank/Batting.csv')\n",
    "awards_df = pd.read_csv('baseballdatabank/AwardsPlayers.csv', usecols=['playerID','awardID','yearID'])\n",
    "allstar_df = pd.read_csv('baseballdatabank/AllstarFull.csv', usecols=['playerID','yearID'])\n",
    "hof_df = pd.read_csv('baseballdatabank/HallOfFame.csv',usecols=['playerID','yearid','votedBy','needed_note','inducted','category'])\n",
    "appearances_df = pd.read_csv('baseballdatabank/Appearances.csv')"
   ]
  },
  {
   "cell_type": "code",
   "execution_count": null,
   "metadata": {
    "collapsed": true
   },
   "outputs": [],
   "source": []
  }
 ],
 "metadata": {
  "kernelspec": {
   "display_name": "Python 3",
   "language": "python",
   "name": "python3"
  },
  "language_info": {
   "codemirror_mode": {
    "name": "ipython",
    "version": 3
   },
   "file_extension": ".py",
   "mimetype": "text/x-python",
   "name": "python",
   "nbconvert_exporter": "python",
   "pygments_lexer": "ipython3",
   "version": "3.6.2"
  }
 },
 "nbformat": 4,
 "nbformat_minor": 2
}
